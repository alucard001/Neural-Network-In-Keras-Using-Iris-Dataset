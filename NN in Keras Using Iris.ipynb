{
 "cells": [
  {
   "cell_type": "code",
   "execution_count": 28,
   "metadata": {},
   "outputs": [],
   "source": [
    "# import matplotlib.pyplot as plt\n",
    "\n",
    "import numpy as np\n",
    "\n",
    "from sklearn import datasets\n",
    "from sklearn.model_selection import train_test_split\n",
    "\n",
    "from keras.models import Sequential\n",
    "from keras.layers import Dense, Activation, Dropout\n",
    "from keras.optimizers import SGD\n",
    "from keras.utils import np_utils\n",
    "\n",
    "iris = datasets.load_iris()"
   ]
  },
  {
   "cell_type": "code",
   "execution_count": 29,
   "metadata": {
    "collapsed": true
   },
   "outputs": [],
   "source": [
    "# Split Train/Test\n",
    "x_train, x_test, y_train, y_test = train_test_split(iris.data, iris.target, test_size=0.33)"
   ]
  },
  {
   "cell_type": "code",
   "execution_count": 30,
   "metadata": {
    "collapsed": true
   },
   "outputs": [],
   "source": [
    "# Build a simple model\n",
    "model = Sequential()\n",
    "model.add(Dense(64, activation='relu', input_dim=x_train.shape[1]))\n",
    "model.add(Dropout(0.5))\n",
    "model.add(Dense(64, activation='relu'))\n",
    "model.add(Dropout(0.5))\n",
    "model.add(Dense(len(set(iris.target)), activation='softmax'))\n",
    "\n",
    "model.compile(optimizer='rmsprop',\n",
    "             loss='categorical_crossentropy',\n",
    "             metrics=['accuracy'])"
   ]
  },
  {
   "cell_type": "code",
   "execution_count": 31,
   "metadata": {
    "collapsed": true
   },
   "outputs": [],
   "source": [
    "# Set parameters\n",
    "epoch = 50\n",
    "batch_size = 10"
   ]
  },
  {
   "cell_type": "code",
   "execution_count": 32,
   "metadata": {},
   "outputs": [
    {
     "name": "stdout",
     "output_type": "stream",
     "text": [
      "Epoch 1/50\n",
      "100/100 [==============================] - 0s - loss: 1.6245 - acc: 0.3000     \n",
      "Epoch 2/50\n",
      "100/100 [==============================] - 0s - loss: 1.6132 - acc: 0.3600     \n",
      "Epoch 3/50\n",
      "100/100 [==============================] - 0s - loss: 1.3403 - acc: 0.3800     \n",
      "Epoch 4/50\n",
      "100/100 [==============================] - 0s - loss: 1.2361 - acc: 0.4800     \n",
      "Epoch 5/50\n",
      "100/100 [==============================] - 0s - loss: 1.1996 - acc: 0.4100     \n",
      "Epoch 6/50\n",
      "100/100 [==============================] - 0s - loss: 1.1829 - acc: 0.4600     \n",
      "Epoch 7/50\n",
      "100/100 [==============================] - 0s - loss: 1.2305 - acc: 0.4100     \n",
      "Epoch 8/50\n",
      "100/100 [==============================] - 0s - loss: 1.0129 - acc: 0.5200     \n",
      "Epoch 9/50\n",
      "100/100 [==============================] - 0s - loss: 1.0417 - acc: 0.5100     \n",
      "Epoch 10/50\n",
      "100/100 [==============================] - 0s - loss: 0.9208 - acc: 0.5100     \n",
      "Epoch 11/50\n",
      "100/100 [==============================] - 0s - loss: 0.9630 - acc: 0.5200     \n",
      "Epoch 12/50\n",
      "100/100 [==============================] - 0s - loss: 0.9340 - acc: 0.5800     \n",
      "Epoch 13/50\n",
      "100/100 [==============================] - 0s - loss: 0.8147 - acc: 0.6000     \n",
      "Epoch 14/50\n",
      "100/100 [==============================] - 0s - loss: 0.8103 - acc: 0.6300     \n",
      "Epoch 15/50\n",
      "100/100 [==============================] - 0s - loss: 0.7183 - acc: 0.6600     \n",
      "Epoch 16/50\n",
      "100/100 [==============================] - 0s - loss: 0.6976 - acc: 0.6500     \n",
      "Epoch 17/50\n",
      "100/100 [==============================] - 0s - loss: 0.7871 - acc: 0.6100     \n",
      "Epoch 18/50\n",
      "100/100 [==============================] - 0s - loss: 0.6918 - acc: 0.6400     \n",
      "Epoch 19/50\n",
      "100/100 [==============================] - 0s - loss: 0.6278 - acc: 0.7200     \n",
      "Epoch 20/50\n",
      "100/100 [==============================] - 0s - loss: 0.6336 - acc: 0.6500     \n",
      "Epoch 21/50\n",
      "100/100 [==============================] - 0s - loss: 0.6262 - acc: 0.6900     \n",
      "Epoch 22/50\n",
      "100/100 [==============================] - 0s - loss: 0.5413 - acc: 0.7300     \n",
      "Epoch 23/50\n",
      "100/100 [==============================] - 0s - loss: 0.6049 - acc: 0.6900     \n",
      "Epoch 24/50\n",
      "100/100 [==============================] - 0s - loss: 0.5396 - acc: 0.7500     \n",
      "Epoch 25/50\n",
      "100/100 [==============================] - 0s - loss: 0.5345 - acc: 0.6900     \n",
      "Epoch 26/50\n",
      "100/100 [==============================] - 0s - loss: 0.5017 - acc: 0.7300     \n",
      "Epoch 27/50\n",
      "100/100 [==============================] - 0s - loss: 0.5300 - acc: 0.7400     \n",
      "Epoch 28/50\n",
      "100/100 [==============================] - 0s - loss: 0.4703 - acc: 0.7700     \n",
      "Epoch 29/50\n",
      "100/100 [==============================] - 0s - loss: 0.4334 - acc: 0.8000     \n",
      "Epoch 30/50\n",
      "100/100 [==============================] - 0s - loss: 0.4496 - acc: 0.7800     \n",
      "Epoch 31/50\n",
      "100/100 [==============================] - 0s - loss: 0.5239 - acc: 0.7500     \n",
      "Epoch 32/50\n",
      "100/100 [==============================] - 0s - loss: 0.4412 - acc: 0.7400     \n",
      "Epoch 33/50\n",
      "100/100 [==============================] - 0s - loss: 0.4443 - acc: 0.7400     \n",
      "Epoch 34/50\n",
      "100/100 [==============================] - 0s - loss: 0.4640 - acc: 0.8000     \n",
      "Epoch 35/50\n",
      "100/100 [==============================] - 0s - loss: 0.4471 - acc: 0.7900     \n",
      "Epoch 36/50\n",
      "100/100 [==============================] - 0s - loss: 0.4524 - acc: 0.7600     \n",
      "Epoch 37/50\n",
      "100/100 [==============================] - 0s - loss: 0.4731 - acc: 0.7600     \n",
      "Epoch 38/50\n",
      "100/100 [==============================] - 0s - loss: 0.4569 - acc: 0.7800     \n",
      "Epoch 39/50\n",
      "100/100 [==============================] - 0s - loss: 0.3861 - acc: 0.8000     \n",
      "Epoch 40/50\n",
      "100/100 [==============================] - 0s - loss: 0.4108 - acc: 0.8100     \n",
      "Epoch 41/50\n",
      "100/100 [==============================] - 0s - loss: 0.4311 - acc: 0.8200     \n",
      "Epoch 42/50\n",
      "100/100 [==============================] - 0s - loss: 0.4021 - acc: 0.8200     \n",
      "Epoch 43/50\n",
      "100/100 [==============================] - 0s - loss: 0.4378 - acc: 0.7600     \n",
      "Epoch 44/50\n",
      "100/100 [==============================] - 0s - loss: 0.3755 - acc: 0.8200     \n",
      "Epoch 45/50\n",
      "100/100 [==============================] - 0s - loss: 0.3688 - acc: 0.8200     \n",
      "Epoch 46/50\n",
      "100/100 [==============================] - 0s - loss: 0.3547 - acc: 0.8400     \n",
      "Epoch 47/50\n",
      "100/100 [==============================] - 0s - loss: 0.3611 - acc: 0.8300     \n",
      "Epoch 48/50\n",
      "100/100 [==============================] - 0s - loss: 0.3150 - acc: 0.8500     \n",
      "Epoch 49/50\n",
      "100/100 [==============================] - 0s - loss: 0.3826 - acc: 0.8700     \n",
      "Epoch 50/50\n",
      "100/100 [==============================] - 0s - loss: 0.3178 - acc: 0.8600     \n",
      "10/50 [=====>........................] - ETA: 0s\n",
      "acc: 98.00%\n"
     ]
    }
   ],
   "source": [
    "# Up to this point, everything looks good...\n",
    "one_hot_label_y_train = np_utils.to_categorical(y_train)\n",
    "one_hot_label_y_test = np_utils.to_categorical(y_test)\n",
    "model.fit(x_train, one_hot_label_y_train, epochs=epoch, batch_size=batch_size)\n",
    "score = model.evaluate(x_test, one_hot_label_y_test, batch_size=batch_size)\n",
    "print(\"\\n{}: {:.2f}%\".format(model.metrics_names[1], score[1]*100))"
   ]
  },
  {
   "cell_type": "code",
   "execution_count": 33,
   "metadata": {},
   "outputs": [
    {
     "name": "stdout",
     "output_type": "stream",
     "text": [
      "Predict: virginica, Actual: virginica, Is it Correct: True\n",
      "\n"
     ]
    }
   ],
   "source": [
    "predict_data = np.array([4., 3., 4., 1.2])\n",
    "x = predict_data.reshape(-1,4)\n",
    "predict = model.predict(x)\n",
    "\n",
    "for i in range(len(predict)):    \n",
    "    guess = iris.target_names[np.argmax(predict[i])]\n",
    "    actual = iris.target_names[y_train[i]]\n",
    "    print(\"Predict: {}, Actual: {}, Is it Correct: {}\\n\".format(guess, actual, guess==actual))"
   ]
  }
 ],
 "metadata": {
  "kernelspec": {
   "display_name": "Python 3",
   "language": "python",
   "name": "python3"
  },
  "language_info": {
   "codemirror_mode": {
    "name": "ipython",
    "version": 3
   },
   "file_extension": ".py",
   "mimetype": "text/x-python",
   "name": "python",
   "nbconvert_exporter": "python",
   "pygments_lexer": "ipython3",
   "version": "3.5.3"
  }
 },
 "nbformat": 4,
 "nbformat_minor": 2
}
